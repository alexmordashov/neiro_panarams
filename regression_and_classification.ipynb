{
  "cells": [
    {
      "cell_type": "markdown",
      "metadata": {
        "id": "view-in-github",
        "colab_type": "text"
      },
      "source": [
        "<a href=\"https://colab.research.google.com/github/alexmordashov/neiro_panarams/blob/main/regression_and_classification.ipynb\" target=\"_parent\"><img src=\"https://colab.research.google.com/assets/colab-badge.svg\" alt=\"Open In Colab\"/></a>"
      ]
    },
    {
      "cell_type": "markdown",
      "source": [
        "Регрессия"
      ],
      "metadata": {
        "id": "Mc-WYpsdLHtQ"
      },
      "id": "Mc-WYpsdLHtQ"
    },
    {
      "cell_type": "code",
      "execution_count": null,
      "id": "a1685a88",
      "metadata": {
        "id": "a1685a88"
      },
      "outputs": [],
      "source": [
        "import numpy as np\n",
        "import matplotlib.pyplot as plt\n",
        "from sklearn.linear_model import LinearRegression"
      ]
    },
    {
      "cell_type": "markdown",
      "source": [
        "Этап 1. Сбор данных от пользователя"
      ],
      "metadata": {
        "id": "KKr2_X0aK_sT"
      },
      "id": "KKr2_X0aK_sT"
    },
    {
      "cell_type": "code",
      "execution_count": null,
      "id": "e22ba8e8",
      "metadata": {
        "colab": {
          "base_uri": "https://localhost:8080/"
        },
        "id": "e22ba8e8",
        "outputId": "7a8619b0-7377-4fad-ca52-56d236330712"
      },
      "outputs": [
        {
          "name": "stdout",
          "output_type": "stream",
          "text": [
            "Введите количество измерений:\n",
            "4\n",
            "Введите данные о росте и весе:\n",
            "170 53\n",
            "190 90\n",
            "167 66\n",
            "185 78\n"
          ]
        }
      ],
      "source": [
        "print(\"Введите количество измерений:\")\n",
        "n = int(input().strip())\n",
        "\n",
        "x = []\n",
        "y = []\n",
        "\n",
        "print(\"Введите данные о росте и весе:\")\n",
        "\n",
        "for i in range(n):\n",
        "    line = input().strip().split()\n",
        "    height = float(line[0])\n",
        "    weight = float(line[1])\n",
        "    x.append(height)\n",
        "    y.append(weight)\n",
        "\n",
        "# Преобразуем x в двумерный массив для sklearn\n",
        "x = np.array(x).reshape(-1, 1)\n",
        "y = np.array(y)"
      ]
    },
    {
      "cell_type": "markdown",
      "source": [
        "Этап 2. Обучение модели линейной регрессии"
      ],
      "metadata": {
        "id": "frI1GlLvLMAe"
      },
      "id": "frI1GlLvLMAe"
    },
    {
      "cell_type": "code",
      "source": [
        "model = LinearRegression()\n",
        "model.fit(x, y)\n",
        "\n",
        "# Получаем коэффициенты\n",
        "w = model.coef_[0]\n",
        "b = model.intercept_\n",
        "\n",
        "print(f\"Уравнение линейной регрессии: y = {w:.2f} * x + {b:.2f}\")"
      ],
      "metadata": {
        "colab": {
          "base_uri": "https://localhost:8080/"
        },
        "id": "k1ubXGKcLXhO",
        "outputId": "1c748068-29cf-4cb8-c654-61ef4d20524d"
      },
      "id": "k1ubXGKcLXhO",
      "execution_count": null,
      "outputs": [
        {
          "output_type": "stream",
          "name": "stdout",
          "text": [
            "Уравнение линейной регрессии: y = 1.26 * x + -152.40\n"
          ]
        }
      ]
    },
    {
      "cell_type": "markdown",
      "source": [
        "Этап 3. Предсказание для нового значения"
      ],
      "metadata": {
        "id": "cTbG50CfMrPl"
      },
      "id": "cTbG50CfMrPl"
    },
    {
      "cell_type": "code",
      "source": [
        "print(\"Введите рост для предсказания веса:\")\n",
        "new_height = float(input().strip())\n",
        "predicted_weight = model.predict([[new_height]])[0]\n",
        "print(f\"\\nПредполагаемый вес для роста {new_height} см: {predicted_weight:.2f} кг\")"
      ],
      "metadata": {
        "colab": {
          "base_uri": "https://localhost:8080/"
        },
        "id": "4SigM0AXMzyH",
        "outputId": "dd46d57f-57ad-4557-c724-350065257ee1"
      },
      "id": "4SigM0AXMzyH",
      "execution_count": 10,
      "outputs": [
        {
          "output_type": "stream",
          "name": "stdout",
          "text": [
            "Введите рост для предсказания веса:\n",
            "190\n",
            "\n",
            "Предполагаемый вес для роста 190.0 см: 86.86 кг\n"
          ]
        }
      ]
    },
    {
      "cell_type": "markdown",
      "source": [
        "Этап 4. Визуализация исходных данных и прямой регрессии"
      ],
      "metadata": {
        "id": "UnWbkQ_AN9JY"
      },
      "id": "UnWbkQ_AN9JY"
    },
    {
      "cell_type": "code",
      "source": [
        "# Генерируем последовательность значений для построения прямой\n",
        "x_line = np.linspace(x.min(), x.max(), 100).reshape(-1, 1)\n",
        "y_line = model.predict(x_line)\n",
        "\n",
        "plt.figure(figsize=(8, 6))\n",
        "# Исходные точки\n",
        "plt.scatter(x, y, color='blue', label='Исходные данные')\n",
        "# Прямая регрессии\n",
        "plt.plot(x_line, y_line, color='red', label='Линия регрессии')\n",
        "# Новая точка\n",
        "plt.scatter([new_height], [predicted_weight], color='green', s=100, marker='x', label='Предсказание')\n",
        "\n",
        "plt.xlabel('Рост')\n",
        "plt.ylabel('Вес')\n",
        "plt.title('Пример линейной регрессии: рост - вес')\n",
        "plt.legend()\n",
        "plt.grid(True)\n",
        "plt.show()"
      ],
      "metadata": {
        "colab": {
          "base_uri": "https://localhost:8080/",
          "height": 564
        },
        "id": "CmITRJU3OE8f",
        "outputId": "11817f33-76aa-4a0b-a702-c461b4232d14"
      },
      "id": "CmITRJU3OE8f",
      "execution_count": 11,
      "outputs": [
        {
          "output_type": "display_data",
          "data": {
            "text/plain": [
              "<Figure size 800x600 with 1 Axes>"
            ],
            "image/png": "[encoded data removed]"
          },
          "metadata": {}
        }
      ]
    }
  ],
  "metadata": {
    "kernelspec": {
      "display_name": "Python 3",
      "language": "python",
      "name": "python3"
    },
    "language_info": {
      "codemirror_mode": {
        "name": "ipython",
        "version": 3
      },
      "file_extension": ".py",
      "mimetype": "text/x-python",
      "name": "python",
      "nbconvert_exporter": "python",
      "pygments_lexer": "ipython3",
      "version": "3.12.3"
    },
    "colab": {
      "provenance": [],
      "include_colab_link": true
    }
  },
  "nbformat": 4,
  "nbformat_minor": 5
}